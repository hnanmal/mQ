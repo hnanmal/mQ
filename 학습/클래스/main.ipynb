{
 "cells": [
  {
   "cell_type": "code",
   "execution_count": 1,
   "id": "5dd82227",
   "metadata": {},
   "outputs": [
    {
     "name": "stdout",
     "output_type": "stream",
     "text": [
      "\n",
      "        level: 1\n",
      "        exp: 0\n",
      "        atk: 2\n",
      "        HP: 10 / 10\n",
      "        \n"
     ]
    }
   ],
   "source": [
    "from charactor import Charactor_warrior\n",
    "from enemy import Enemy\n",
    "\n",
    "man1 = Charactor_warrior()\n",
    "\n",
    "print(man1)"
   ]
  },
  {
   "cell_type": "code",
   "execution_count": 168,
   "id": "da428fa6",
   "metadata": {},
   "outputs": [
    {
     "name": "stdout",
     "output_type": "stream",
     "text": [
      "주인공은 1 의 데미지를 입었다.\n",
      "현재체력 : 917\n",
      "\n",
      "적은 93 의 데미지를 입었다.\n",
      "\n",
      "레벨업 보상으로 체력 30 상승\n",
      "레벨업 보상으로 공격력 3 상승\n",
      "You win\n",
      "You get exp 30\n",
      "\n",
      "\n",
      "        level: 51\n",
      "        exp: 10\n",
      "        atk: 96\n",
      "        HP: 950 / 950\n",
      "        \n"
     ]
    }
   ],
   "source": [
    "from battle import Battle\n",
    "\n",
    "enemy1 = Enemy()\n",
    "\n",
    "round1 = Battle(man1, enemy1)\n",
    "round1.fight()\n",
    "\n",
    "print(man1)"
   ]
  },
  {
   "cell_type": "code",
   "execution_count": 169,
   "id": "fef75766",
   "metadata": {},
   "outputs": [
    {
     "name": "stdout",
     "output_type": "stream",
     "text": [
      "\n",
      "        level: 1\n",
      "        exp: 0\n",
      "        atk: 2\n",
      "        HP: 10 / 10\n",
      "        \n",
      "\n",
      "        level: 1\n",
      "        exp: 0\n",
      "        atk: 2\n",
      "        HP: 10 / 10\n",
      "        \n",
      "\n",
      "        level: 1\n",
      "        exp: 0\n",
      "        atk: 2\n",
      "        HP: 10 / 10\n",
      "        \n"
     ]
    }
   ],
   "source": [
    "def copy_char():\n",
    "    return Charactor_warrior()\n",
    "\n",
    "packs = {}\n",
    "\n",
    "for i in [0,1,2,3,4]:\n",
    "    packs[i] = copy_char()\n",
    "    \n",
    "    \n",
    "print(packs[1])\n",
    "print(packs[2])\n",
    "print(packs[3])"
   ]
  },
  {
   "cell_type": "code",
   "execution_count": null,
   "id": "bb137518",
   "metadata": {},
   "outputs": [],
   "source": []
  }
 ],
 "metadata": {
  "kernelspec": {
   "display_name": "Python 3",
   "language": "python",
   "name": "python3"
  },
  "language_info": {
   "codemirror_mode": {
    "name": "ipython",
    "version": 3
   },
   "file_extension": ".py",
   "mimetype": "text/x-python",
   "name": "python",
   "nbconvert_exporter": "python",
   "pygments_lexer": "ipython3",
   "version": "3.13.5"
  }
 },
 "nbformat": 4,
 "nbformat_minor": 5
}
