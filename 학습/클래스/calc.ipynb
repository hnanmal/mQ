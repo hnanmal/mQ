{
 "cells": [
  {
   "cell_type": "code",
   "execution_count": 4,
   "id": "ea28c207",
   "metadata": {},
   "outputs": [
    {
     "name": "stdout",
     "output_type": "stream",
     "text": [
      "0\n",
      "3\n",
      "7\n"
     ]
    }
   ],
   "source": [
    "# calculator.py \n",
    "\n",
    "result = 0 \n",
    "\n",
    "  \n",
    "\n",
    "def add(num): \n",
    "\n",
    "    global result \n",
    "\n",
    "    result += num  # 결괏값(result)에 입력값(num) 더하기 \n",
    "\n",
    "    return result  # 결괏값 리턴 \n",
    "\n",
    "  \n",
    "print(result)\n",
    "print(add(3)) \n",
    "\n",
    "print(add(4)) "
   ]
  },
  {
   "cell_type": "code",
   "execution_count": 7,
   "id": "bdf26629",
   "metadata": {},
   "outputs": [
    {
     "name": "stdout",
     "output_type": "stream",
     "text": [
      "3\n",
      "7\n",
      "3\n",
      "10\n"
     ]
    }
   ],
   "source": [
    "# calculator2.py \n",
    "\n",
    "visiter = 0 \n",
    "\n",
    "dish_sold = 0 \n",
    "\n",
    "  \n",
    "\n",
    "def add1(num):  # 계산기1 \n",
    "\n",
    "    global visiter \n",
    "\n",
    "    visiter += num \n",
    "\n",
    "    return visiter \n",
    "\n",
    "  \n",
    "\n",
    "def add2(num):  # 계산기2 \n",
    "\n",
    "    global dish_sold \n",
    "\n",
    "    dish_sold += num \n",
    "\n",
    "    return dish_sold \n",
    "\n",
    "  \n",
    "\n",
    "print(add1(3)) \n",
    "\n",
    "print(add1(4)) \n",
    "\n",
    "print(add2(3)) \n",
    "\n",
    "print(add2(7)) "
   ]
  },
  {
   "cell_type": "code",
   "execution_count": 12,
   "id": "1126b5b7",
   "metadata": {},
   "outputs": [
    {
     "name": "stdout",
     "output_type": "stream",
     "text": [
      "made\n",
      "made\n",
      "made\n",
      "3\n",
      "7\n",
      "3\n",
      "10\n",
      "8\n",
      "4\n"
     ]
    }
   ],
   "source": [
    "# calculator3.py \n",
    "\n",
    "class Calculator: \n",
    "\n",
    "    def __init__(self): \n",
    "\n",
    "        self.result = 0\n",
    "        print(\"made\")\n",
    "\n",
    "  \n",
    "\n",
    "    def add(self, num): \n",
    "\n",
    "        self.result += num \n",
    "\n",
    "        return self.result \n",
    "    \n",
    "    def sub(self, num):\n",
    "\n",
    "        self.result -= num \n",
    "\n",
    "        return self.result \n",
    "\n",
    "  \n",
    "\n",
    "visitor = Calculator() \n",
    "\n",
    "dish = Calculator() \n",
    "\n",
    "pet = Calculator() \n",
    "\n",
    "  \n",
    "\n",
    "print(visitor.add(3)) \n",
    "\n",
    "print(visitor.add(4)) \n",
    "\n",
    "print(dish.add(3)) \n",
    "\n",
    "print(dish.add(7)) \n",
    "\n",
    "print(pet.add(8))\n",
    "print(pet.sub(4))"
   ]
  },
  {
   "cell_type": "code",
   "execution_count": null,
   "id": "3ddb07dd",
   "metadata": {},
   "outputs": [],
   "source": []
  }
 ],
 "metadata": {
  "kernelspec": {
   "display_name": "Python 3",
   "language": "python",
   "name": "python3"
  },
  "language_info": {
   "codemirror_mode": {
    "name": "ipython",
    "version": 3
   },
   "file_extension": ".py",
   "mimetype": "text/x-python",
   "name": "python",
   "nbconvert_exporter": "python",
   "pygments_lexer": "ipython3",
   "version": "3.13.5"
  }
 },
 "nbformat": 4,
 "nbformat_minor": 5
}
